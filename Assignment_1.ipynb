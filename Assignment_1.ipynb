{
  "nbformat": 4,
  "nbformat_minor": 0,
  "metadata": {
    "colab": {
      "name": "Assignment 1.ipynb",
      "provenance": [],
      "collapsed_sections": []
    },
    "kernelspec": {
      "name": "python3",
      "display_name": "Python 3"
    }
  },
  "cells": [
    {
      "cell_type": "markdown",
      "metadata": {
        "id": "Lngr_Pz6jgNM"
      },
      "source": [
        "Hello Python"
      ]
    },
    {
      "cell_type": "code",
      "metadata": {
        "colab": {
          "base_uri": "https://localhost:8080/"
        },
        "id": "_GAoYXPTjkcX",
        "outputId": "88470518-4e49-4a7c-ffe1-edfa5780c61d"
      },
      "source": [
        "print(\"Hello Python!\")"
      ],
      "execution_count": null,
      "outputs": [
        {
          "output_type": "stream",
          "text": [
            "Hello Python!\n"
          ],
          "name": "stdout"
        }
      ]
    },
    {
      "cell_type": "markdown",
      "metadata": {
        "id": "lJ3rVnZbjvzl"
      },
      "source": [
        " Operations"
      ]
    },
    {
      "cell_type": "code",
      "metadata": {
        "colab": {
          "base_uri": "https://localhost:8080/"
        },
        "id": "LkT_WEYhj1iS",
        "outputId": "3ad5ff00-490a-4e50-a3bd-ea9fb308aff1"
      },
      "source": [
        "4+2"
      ],
      "execution_count": null,
      "outputs": [
        {
          "output_type": "execute_result",
          "data": {
            "text/plain": [
              "6"
            ]
          },
          "metadata": {
            "tags": []
          },
          "execution_count": 2
        }
      ]
    },
    {
      "cell_type": "code",
      "metadata": {
        "colab": {
          "base_uri": "https://localhost:8080/"
        },
        "id": "BsecS9HCj9ld",
        "outputId": "7c5190be-77f7-4c7f-c970-7699ffd26494"
      },
      "source": [
        "4-2"
      ],
      "execution_count": null,
      "outputs": [
        {
          "output_type": "execute_result",
          "data": {
            "text/plain": [
              "2"
            ]
          },
          "metadata": {
            "tags": []
          },
          "execution_count": 3
        }
      ]
    },
    {
      "cell_type": "code",
      "metadata": {
        "colab": {
          "base_uri": "https://localhost:8080/"
        },
        "id": "_xEvb9k3kAm5",
        "outputId": "832e6b81-57dd-465f-cf7b-67e70caedfad"
      },
      "source": [
        "6*3"
      ],
      "execution_count": null,
      "outputs": [
        {
          "output_type": "execute_result",
          "data": {
            "text/plain": [
              "18"
            ]
          },
          "metadata": {
            "tags": []
          },
          "execution_count": 4
        }
      ]
    },
    {
      "cell_type": "code",
      "metadata": {
        "colab": {
          "base_uri": "https://localhost:8080/"
        },
        "id": "iKBrotEWkD44",
        "outputId": "2957dd44-c2f8-49ab-df10-6c483816d37a"
      },
      "source": [
        "81/9"
      ],
      "execution_count": null,
      "outputs": [
        {
          "output_type": "execute_result",
          "data": {
            "text/plain": [
              "9.0"
            ]
          },
          "metadata": {
            "tags": []
          },
          "execution_count": 5
        }
      ]
    },
    {
      "cell_type": "markdown",
      "metadata": {
        "id": "h8EmcGsfkHO7"
      },
      "source": [
        "Introduction to input and int function"
      ]
    },
    {
      "cell_type": "code",
      "metadata": {
        "colab": {
          "base_uri": "https://localhost:8080/"
        },
        "id": "fgfUS7dZkhOM",
        "outputId": "06f2b6f9-5a3d-4d6e-fdd8-caab37c12e79"
      },
      "source": [
        "print(int(input(\"enter number\"))+7) \n",
        "print(int(input(\"enter number\"))-6) \n",
        "print(int(input(\"enter number\"))*3) \n",
        "print(int(input(\"enter number\"))/8)"
      ],
      "execution_count": null,
      "outputs": [
        {
          "output_type": "stream",
          "text": [
            "enter number13\n",
            "20\n",
            "enter number3\n",
            "-3\n",
            "enter number5\n",
            "15\n",
            "enter number6\n",
            "0.75\n"
          ],
          "name": "stdout"
        }
      ]
    },
    {
      "cell_type": "markdown",
      "metadata": {
        "id": "rdtGXDE8leEB"
      },
      "source": [
        "Operations by giving integer value to variables"
      ]
    },
    {
      "cell_type": "code",
      "metadata": {
        "colab": {
          "base_uri": "https://localhost:8080/"
        },
        "id": "KH2y0W-HljQ2",
        "outputId": "e2d5040d-3372-473b-e2f5-fdde90642ac7"
      },
      "source": [
        "a= int(input(\"enter number\")) \n",
        "b= int(input(\"enter number\"))\n",
        "print(a+b) \n",
        "print(a-b)\n",
        "print(a*b)\n",
        "print(a/b)"
      ],
      "execution_count": null,
      "outputs": [
        {
          "output_type": "stream",
          "text": [
            "enter number2\n",
            "enter number5\n",
            "7\n",
            "-3\n",
            "10\n",
            "0.4\n"
          ],
          "name": "stdout"
        }
      ]
    },
    {
      "cell_type": "code",
      "metadata": {
        "colab": {
          "base_uri": "https://localhost:8080/"
        },
        "id": "a7vwUjzwmWQE",
        "outputId": "134b24dd-5161-47e2-924a-0435e61992d7"
      },
      "source": [
        "a= 6\n",
        "b= 3\n",
        "print(a+b)\n",
        "print(a-b)\n",
        "print(a*b)\n",
        "print(a/b)"
      ],
      "execution_count": null,
      "outputs": [
        {
          "output_type": "stream",
          "text": [
            "9\n",
            "3\n",
            "18\n",
            "2.0\n"
          ],
          "name": "stdout"
        }
      ]
    }
  ]
}