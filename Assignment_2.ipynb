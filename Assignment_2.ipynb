{
  "nbformat": 4,
  "nbformat_minor": 0,
  "metadata": {
    "colab": {
      "name": "Assignment 2.ipynb",
      "provenance": [],
      "collapsed_sections": []
    },
    "kernelspec": {
      "name": "python3",
      "display_name": "Python 3"
    }
  },
  "cells": [
    {
      "cell_type": "markdown",
      "metadata": {
        "id": "Lt4OT7qzUScq"
      },
      "source": [
        "# Using if and else if for grading based on the user input"
      ]
    },
    {
      "cell_type": "code",
      "metadata": {
        "colab": {
          "base_uri": "https://localhost:8080/"
        },
        "id": "Dya4tTvOUGkg",
        "outputId": "22c5e93c-fd5f-43a3-f45f-a032553ab6f1"
      },
      "source": [
        "name = input(\"Please enter your name\")\n",
        "marks = int(input(\"Please enter your marks\"))\n",
        "if marks>90:\n",
        "  print(name,\"has got A grade!\")\n",
        "elif marks>80:\n",
        "  print(name,\"has got B grade!\")\n",
        "elif marks>70:\n",
        "  print(name,\"has got C grade!\")\n",
        "elif marks>60:\n",
        "  print(name,\"has got D grade!\")\n",
        "else:\n",
        "  print(name,\"has failed!\")\n"
      ],
      "execution_count": null,
      "outputs": [
        {
          "output_type": "stream",
          "text": [
            "Please enter your namesaphal\n",
            "Please enter your marks64\n",
            "saphal has got D grade!\n"
          ],
          "name": "stdout"
        }
      ]
    },
    {
      "cell_type": "markdown",
      "metadata": {
        "id": "jWNIZHJnWWrw"
      },
      "source": [
        "# - Extend the username password block to support OTP verification"
      ]
    },
    {
      "cell_type": "code",
      "metadata": {
        "colab": {
          "base_uri": "https://localhost:8080/"
        },
        "id": "Zy_MO8eyWY55",
        "outputId": "a0964b74-9eed-4f0c-806d-4174954b109b"
      },
      "source": [
        "Name= \"saphal\"\n",
        "Password = \"123456\"\n",
        "one_time_password= \"453212\"\n",
        "username = input(\"Enter username:\")\n",
        "password = input(\"Enter password:\")\n",
        "if username==Name:\n",
        "  if password==Password:\n",
        "    print(\"Your OTP is- 453212\")\n",
        "  else:\n",
        "    print(\"The password you entered in wrong!\")\n",
        "else:\n",
        "  print(\"Invalid username\")\n",
        "\n",
        "otp= input(\"Please enter the OTP you received:\")\n",
        "if otp==one_time_password :\n",
        "  print(\"Welcome\",Name)\n",
        "else:\n",
        "  print(\"The OTP is wrong.\")\n"
      ],
      "execution_count": null,
      "outputs": [
        {
          "output_type": "stream",
          "text": [
            "Enter username:saphal\n",
            "Enter password:123456\n",
            "Your OTP is- 453212\n",
            "Please enter the OTP you received:453212\n",
            "Welcome saphal\n"
          ],
          "name": "stdout"
        }
      ]
    },
    {
      "cell_type": "markdown",
      "metadata": {
        "id": "lSTxXQu4cOtQ"
      },
      "source": [
        "# In a list of marks - print only failed marks - below 60"
      ]
    },
    {
      "cell_type": "code",
      "metadata": {
        "id": "NZC2BM23FqI1"
      },
      "source": [
        "studentmarks = {\n",
        "    'raju' : 70,\n",
        "    \"sumesh\" : 34,\n",
        "    \"rocky\" : 63,\n",
        "    \"soman\" : 90,\n",
        "    \"vasu\" : 20,\n",
        "    \"maneesh\" : 54\n",
        "}"
      ],
      "execution_count": null,
      "outputs": []
    },
    {
      "cell_type": "code",
      "metadata": {
        "colab": {
          "base_uri": "https://localhost:8080/"
        },
        "id": "afu1bOtBG1lk",
        "outputId": "3ff8edb4-5aaa-4c77-faf9-db5c1b941eb3"
      },
      "source": [
        "studentmarks.keys()"
      ],
      "execution_count": null,
      "outputs": [
        {
          "output_type": "execute_result",
          "data": {
            "text/plain": [
              "dict_keys(['raju', 'sumesh', 'rocky', 'soman', 'vasu', 'maneesh'])"
            ]
          },
          "metadata": {
            "tags": []
          },
          "execution_count": 4
        }
      ]
    },
    {
      "cell_type": "code",
      "metadata": {
        "colab": {
          "base_uri": "https://localhost:8080/"
        },
        "id": "zuTWDdKhG6G8",
        "outputId": "8301e762-51db-4219-817a-876e9b46fb6c"
      },
      "source": [
        "for i in studentmarks.keys() :\n",
        "  if studentmarks[i]<60:\n",
        "    print(i,\"has failed\")"
      ],
      "execution_count": null,
      "outputs": [
        {
          "output_type": "stream",
          "text": [
            "sumesh has failed\n",
            "vasu has failed\n",
            "maneesh has failed\n"
          ],
          "name": "stdout"
        }
      ]
    }
  ]
}